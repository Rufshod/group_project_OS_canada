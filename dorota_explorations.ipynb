{
 "cells": [],
 "metadata": {
  "kernelspec": {
   "display_name": "Python 3.9.13 ('group_project_OS_canada-B7O_d9oB')",
   "language": "python",
   "name": "python3"
  },
  "language_info": {
   "codemirror_mode": {
    "name": "ipython",
    "version": 3
   },
   "file_extension": ".py",
   "mimetype": "text/x-python",
   "name": "python",
   "nbconvert_exporter": "python",
   "pygments_lexer": "ipython3",
   "version": "3.9.13"
  },
  "orig_nbformat": 4,
  "vscode": {
   "interpreter": {
    "hash": "917a5acbddff88d2b2a55ebe2c10401cfac3f5fc14ccf2c7a14a025ceeaa351a"
   }
  }
 },
 "nbformat": 4,
 "nbformat_minor": 2
}
