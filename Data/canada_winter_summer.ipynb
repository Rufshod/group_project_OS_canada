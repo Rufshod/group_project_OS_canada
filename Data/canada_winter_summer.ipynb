{
 "cells": [
  {
   "cell_type": "code",
   "execution_count": 70,
   "metadata": {},
   "outputs": [],
   "source": [
    "import pandas as pd\n",
    "import plotly_express as px\n"
   ]
  },
  {
   "cell_type": "code",
   "execution_count": 71,
   "metadata": {},
   "outputs": [],
   "source": [
    "df_os = pd.read_csv(\"athlete_events.csv\")"
   ]
  },
  {
   "cell_type": "code",
   "execution_count": 72,
   "metadata": {},
   "outputs": [],
   "source": [
    "df_os_canada = df_os[df_os[\"NOC\"]==\"CAN\"]"
   ]
  },
  {
   "cell_type": "code",
   "execution_count": 74,
   "metadata": {},
   "outputs": [],
   "source": [
    "df_canada_summer = df_os_canada[df_os_canada[\"Season\"]==\"Summer\"]\n",
    "df_canada_winter = df_os_canada[df_os_canada[\"Season\"]==\"Winter\"]"
   ]
  },
  {
   "cell_type": "code",
   "execution_count": 98,
   "metadata": {},
   "outputs": [
    {
     "name": "stdout",
     "output_type": "stream",
     "text": [
      "Amount of winter medals: 522, summer medals: 538, summer has 16 more medals\n"
     ]
    }
   ],
   "source": [
    "df_winter_gold = df_canada_winter[df_canada_winter[\"Medal\"]==\"Gold\"].dropna() # Golds \n",
    "df_winter_silver = df_canada_winter[df_canada_winter[\"Medal\"]==\"Silver\"].dropna() # Silvers \n",
    "df_winter_bronze = df_canada_winter[df_canada_winter[\"Medal\"]==\"Bronze\"].dropna() # Bronze \n",
    "\n",
    "df_summer_gold = df_canada_summer[df_canada_summer[\"Medal\"]==\"Gold\"].dropna() # Golds \n",
    "df_summer_silver = df_canada_summer[df_canada_summer[\"Medal\"]==\"Silver\"].dropna() # Silver \n",
    "df_summer_bronze = df_canada_summer[df_canada_summer[\"Medal\"]==\"Bronze\"].dropna() # Bronze \n",
    "print(f\"Amount of winter medals: {247+181+94}, summer medals: {115+162+261}, summer has {(115+162+261)-(247+181+94)} more medals\")"
   ]
  },
  {
   "cell_type": "code",
   "execution_count": 157,
   "metadata": {},
   "outputs": [
    {
     "data": {
      "text/plain": [
       "247"
      ]
     },
     "execution_count": 157,
     "metadata": {},
     "output_type": "execute_result"
    }
   ],
   "source": [
    "len(df_canada_winter[df_canada_winter[\"Medal\"]==\"Gold\"].dropna())"
   ]
  },
  {
   "cell_type": "code",
   "execution_count": 163,
   "metadata": {},
   "outputs": [
    {
     "data": {
      "application/vnd.plotly.v1+json": {
       "config": {
        "plotlyServerURL": "https://plot.ly"
       },
       "data": [
        {
         "hovertemplate": "x=%{x}<br>y=%{y}<extra></extra>",
         "legendgroup": "",
         "line": {
          "color": "#636efa",
          "dash": "solid"
         },
         "marker": {
          "symbol": "circle"
         },
         "mode": "lines",
         "name": "",
         "orientation": "h",
         "showlegend": false,
         "type": "scatter",
         "x": [
          1952,
          2006,
          2006,
          2010,
          2014,
          1964,
          2010,
          2002,
          2006,
          2010,
          2014,
          2010,
          2002,
          1998,
          2002,
          1994,
          1994,
          2014,
          2010,
          2014,
          1998,
          2010,
          2014,
          2002,
          2010,
          2002,
          2006,
          2010,
          1984,
          1984,
          2014,
          2010,
          1994,
          2002,
          2002,
          2002,
          2010,
          1924,
          2002,
          2006,
          1998,
          2014,
          2002,
          1932,
          1924,
          2006,
          2010,
          2014,
          1932,
          1992,
          1992,
          2014,
          1952,
          1952,
          1928,
          1952,
          2010,
          2014,
          1948,
          1998,
          2014,
          2014,
          1932,
          1948,
          2002,
          1964,
          1964,
          2010,
          2006,
          1928,
          2002,
          2002,
          1998,
          2014,
          2014,
          2002,
          1998,
          2002,
          2002,
          1932,
          1952,
          2010,
          2014,
          1952,
          2006,
          2010,
          2002,
          2006,
          1948,
          1968,
          1998,
          2002,
          2006,
          1948,
          1948,
          2010,
          2010,
          2014,
          2010,
          2014,
          1952,
          2014,
          2014,
          2002,
          2010,
          2010,
          2002,
          2006,
          2010,
          2014,
          1960,
          2006,
          1932,
          1948,
          2006,
          2014,
          1928,
          2006,
          2010,
          2014,
          2002,
          2010,
          2010,
          2014,
          2014,
          2010,
          2014,
          2010,
          2014,
          2014,
          2002,
          2002,
          2002,
          2010,
          2014,
          2002,
          2006,
          2010,
          2010,
          2006,
          2010,
          1964,
          2006,
          2006,
          1976,
          2014,
          2006,
          2010,
          2014,
          1992,
          1948,
          2014,
          2014,
          1998,
          2002,
          1948,
          1992,
          2002,
          1932,
          2002,
          1998,
          2010,
          2014,
          1998,
          2002,
          2006,
          2010,
          2010,
          1932,
          1948,
          2010,
          2014,
          2010,
          1924,
          1998,
          2014,
          2010,
          1924,
          1952,
          2010,
          2014,
          1952,
          2010,
          1932,
          2010,
          1932,
          2010,
          2010,
          2010,
          2010,
          2014,
          1928,
          1924,
          2010,
          2014,
          2010,
          2006,
          2002,
          2010,
          2002,
          2002,
          2014,
          2002,
          2006,
          2010,
          2014,
          1952,
          1960,
          2002,
          2002,
          1992,
          1998,
          2010,
          2014,
          2014,
          2002,
          2006,
          2010,
          1928,
          1928,
          1928,
          1952,
          1928,
          2010,
          2014,
          2002,
          2006,
          2014,
          2002,
          2010,
          1952,
          1924,
          1998,
          1948,
          2010,
          2010,
          1932,
          1952,
          2014,
          2002,
          2002,
          1998,
          1948,
          1948,
          2002,
          2010,
          1952,
          2002,
          2014,
          2002,
          1932,
          1924,
          2002,
          1924,
          2002,
          2002,
          2006,
          2010,
          2014,
          2002,
          2006,
          2010,
          2014,
          2010,
          2014,
          1952,
          1928,
          1928,
          2002,
          2006,
          1932,
          2010,
          2014,
          2014,
          1948,
          1928,
          2014,
          2010,
          2010,
          2014,
          2002,
          2010,
          1928,
          2002,
          2006,
          2010,
          2010,
          2014,
          1960,
          1932,
          2014,
          2010,
          2014,
          2014,
          1924,
          1952,
          2006,
          2010,
          2014,
          2002,
          2006,
          2010,
          2014,
          1932,
          2002
         ],
         "xaxis": "x",
         "y": [
          "Ice Hockey",
          "Curling",
          "Ice Hockey",
          "Ice Hockey",
          "Ice Hockey",
          "Bobsleigh",
          "Snowboarding",
          "Ice Hockey",
          "Ice Hockey",
          "Ice Hockey",
          "Ice Hockey",
          "Short Track Speed Skating",
          "Ice Hockey",
          "Short Track Speed Skating",
          "Short Track Speed Skating",
          "Biathlon",
          "Biathlon",
          "Ice Hockey",
          "Ice Hockey",
          "Ice Hockey",
          "Curling",
          "Freestyle Skiing",
          "Freestyle Skiing",
          "Ice Hockey",
          "Ice Hockey",
          "Ice Hockey",
          "Ice Hockey",
          "Ice Hockey",
          "Speed Skating",
          "Speed Skating",
          "Ice Hockey",
          "Ice Hockey",
          "Freestyle Skiing",
          "Ice Hockey",
          "Ice Hockey",
          "Ice Hockey",
          "Ice Hockey",
          "Ice Hockey",
          "Ice Hockey",
          "Ice Hockey",
          "Short Track Speed Skating",
          "Ice Hockey",
          "Ice Hockey",
          "Ice Hockey",
          "Ice Hockey",
          "Cross Country Skiing",
          "Ice Hockey",
          "Ice Hockey",
          "Ice Hockey",
          "Short Track Speed Skating",
          "Short Track Speed Skating",
          "Ice Hockey",
          "Ice Hockey",
          "Ice Hockey",
          "Ice Hockey",
          "Ice Hockey",
          "Ice Hockey",
          "Ice Hockey",
          "Ice Hockey",
          "Short Track Speed Skating",
          "Ice Hockey",
          "Freestyle Skiing",
          "Ice Hockey",
          "Ice Hockey",
          "Ice Hockey",
          "Bobsleigh",
          "Bobsleigh",
          "Curling",
          "Ice Hockey",
          "Ice Hockey",
          "Ice Hockey",
          "Ice Hockey",
          "Curling",
          "Ice Hockey",
          "Curling",
          "Ice Hockey",
          "Short Track Speed Skating",
          "Short Track Speed Skating",
          "Short Track Speed Skating",
          "Ice Hockey",
          "Ice Hockey",
          "Ice Hockey",
          "Ice Hockey",
          "Ice Hockey",
          "Skeleton",
          "Speed Skating",
          "Ice Hockey",
          "Ice Hockey",
          "Ice Hockey",
          "Alpine Skiing",
          "Curling",
          "Short Track Speed Skating",
          "Curling",
          "Ice Hockey",
          "Ice Hockey",
          "Short Track Speed Skating",
          "Short Track Speed Skating",
          "Short Track Speed Skating",
          "Short Track Speed Skating",
          "Ice Hockey",
          "Ice Hockey",
          "Curling",
          "Curling",
          "Ice Hockey",
          "Ice Hockey",
          "Curling",
          "Ice Hockey",
          "Ice Hockey",
          "Ice Hockey",
          "Ice Hockey",
          "Alpine Skiing",
          "Freestyle Skiing",
          "Ice Hockey",
          "Ice Hockey",
          "Curling",
          "Freestyle Skiing",
          "Ice Hockey",
          "Speed Skating",
          "Bobsleigh",
          "Bobsleigh",
          "Ice Hockey",
          "Ice Hockey",
          "Ice Hockey",
          "Ice Hockey",
          "Curling",
          "Short Track Speed Skating",
          "Ice Hockey",
          "Ice Hockey",
          "Ice Hockey",
          "Curling",
          "Ice Hockey",
          "Ice Hockey",
          "Ice Hockey",
          "Ice Hockey",
          "Ice Hockey",
          "Ice Hockey",
          "Ice Hockey",
          "Ice Hockey",
          "Curling",
          "Ice Hockey",
          "Ice Hockey",
          "Bobsleigh",
          "Speed Skating",
          "Curling",
          "Alpine Skiing",
          "Ice Hockey",
          "Ice Hockey",
          "Ice Hockey",
          "Ice Hockey",
          "Short Track Speed Skating",
          "Ice Hockey",
          "Ice Hockey",
          "Curling",
          "Speed Skating",
          "Speed Skating",
          "Ice Hockey",
          "Alpine Skiing",
          "Ice Hockey",
          "Ice Hockey",
          "Ice Hockey",
          "Bobsleigh",
          "Ice Hockey",
          "Ice Hockey",
          "Bobsleigh",
          "Ice Hockey",
          "Ice Hockey",
          "Ice Hockey",
          "Speed Skating",
          "Ice Hockey",
          "Ice Hockey",
          "Ice Hockey",
          "Ice Hockey",
          "Curling",
          "Ice Hockey",
          "Curling",
          "Curling",
          "Freestyle Skiing",
          "Ice Hockey",
          "Ice Hockey",
          "Ice Hockey",
          "Ice Hockey",
          "Ice Hockey",
          "Figure Skating",
          "Ice Hockey",
          "Skeleton",
          "Ice Hockey",
          "Curling",
          "Speed Skating",
          "Ice Hockey",
          "Bobsleigh",
          "Bobsleigh",
          "Ice Hockey",
          "Ice Hockey",
          "Ice Hockey",
          "Ice Hockey",
          "Speed Skating",
          "Curling",
          "Ice Hockey",
          "Ice Hockey",
          "Ice Hockey",
          "Ice Hockey",
          "Curling",
          "Ice Hockey",
          "Ice Hockey",
          "Ice Hockey",
          "Ice Hockey",
          "Ice Hockey",
          "Figure Skating",
          "Ice Hockey",
          "Figure Skating",
          "Short Track Speed Skating",
          "Short Track Speed Skating",
          "Ice Hockey",
          "Ice Hockey",
          "Ice Hockey",
          "Ice Hockey",
          "Ice Hockey",
          "Ice Hockey",
          "Ice Hockey",
          "Ice Hockey",
          "Ice Hockey",
          "Ice Hockey",
          "Ice Hockey",
          "Ice Hockey",
          "Ice Hockey",
          "Ice Hockey",
          "Ice Hockey",
          "Ice Hockey",
          "Ice Hockey",
          "Ice Hockey",
          "Ice Hockey",
          "Ice Hockey",
          "Snowboarding",
          "Ice Hockey",
          "Ice Hockey",
          "Snowboarding",
          "Ice Hockey",
          "Ice Hockey",
          "Ice Hockey",
          "Ice Hockey",
          "Figure Skating",
          "Curling",
          "Ice Hockey",
          "Figure Skating",
          "Cross Country Skiing",
          "Ice Hockey",
          "Ice Hockey",
          "Ice Hockey",
          "Ice Hockey",
          "Ice Hockey",
          "Ice Hockey",
          "Ice Hockey",
          "Ice Hockey",
          "Ice Hockey",
          "Ice Hockey",
          "Ice Hockey",
          "Ice Hockey",
          "Ice Hockey",
          "Ice Hockey",
          "Ice Hockey",
          "Ice Hockey",
          "Ice Hockey",
          "Ice Hockey",
          "Ice Hockey",
          "Ice Hockey",
          "Ice Hockey",
          "Ice Hockey",
          "Ice Hockey",
          "Ice Hockey",
          "Ice Hockey",
          "Ice Hockey",
          "Ice Hockey",
          "Ice Hockey",
          "Ice Hockey",
          "Ice Hockey",
          "Ice Hockey",
          "Freestyle Skiing",
          "Ice Hockey",
          "Ice Hockey",
          "Ice Hockey",
          "Short Track Speed Skating",
          "Short Track Speed Skating",
          "Ice Hockey",
          "Short Track Speed Skating",
          "Ice Hockey",
          "Ice Hockey",
          "Figure Skating",
          "Ice Hockey",
          "Figure Skating",
          "Ice Hockey",
          "Ice Hockey",
          "Ice Hockey",
          "Ice Hockey",
          "Ice Hockey",
          "Ice Hockey",
          "Ice Hockey",
          "Ice Hockey",
          "Ice Hockey",
          "Ice Hockey",
          "Ice Hockey",
          "Ice Hockey",
          "Ice Hockey",
          "Ice Hockey",
          "Ice Hockey",
          "Ice Hockey"
         ],
         "yaxis": "y"
        }
       ],
       "layout": {
        "legend": {
         "tracegroupgap": 0
        },
        "margin": {
         "t": 60
        },
        "template": {
         "data": {
          "bar": [
           {
            "error_x": {
             "color": "#2a3f5f"
            },
            "error_y": {
             "color": "#2a3f5f"
            },
            "marker": {
             "line": {
              "color": "#E5ECF6",
              "width": 0.5
             },
             "pattern": {
              "fillmode": "overlay",
              "size": 10,
              "solidity": 0.2
             }
            },
            "type": "bar"
           }
          ],
          "barpolar": [
           {
            "marker": {
             "line": {
              "color": "#E5ECF6",
              "width": 0.5
             },
             "pattern": {
              "fillmode": "overlay",
              "size": 10,
              "solidity": 0.2
             }
            },
            "type": "barpolar"
           }
          ],
          "carpet": [
           {
            "aaxis": {
             "endlinecolor": "#2a3f5f",
             "gridcolor": "white",
             "linecolor": "white",
             "minorgridcolor": "white",
             "startlinecolor": "#2a3f5f"
            },
            "baxis": {
             "endlinecolor": "#2a3f5f",
             "gridcolor": "white",
             "linecolor": "white",
             "minorgridcolor": "white",
             "startlinecolor": "#2a3f5f"
            },
            "type": "carpet"
           }
          ],
          "choropleth": [
           {
            "colorbar": {
             "outlinewidth": 0,
             "ticks": ""
            },
            "type": "choropleth"
           }
          ],
          "contour": [
           {
            "colorbar": {
             "outlinewidth": 0,
             "ticks": ""
            },
            "colorscale": [
             [
              0,
              "#0d0887"
             ],
             [
              0.1111111111111111,
              "#46039f"
             ],
             [
              0.2222222222222222,
              "#7201a8"
             ],
             [
              0.3333333333333333,
              "#9c179e"
             ],
             [
              0.4444444444444444,
              "#bd3786"
             ],
             [
              0.5555555555555556,
              "#d8576b"
             ],
             [
              0.6666666666666666,
              "#ed7953"
             ],
             [
              0.7777777777777778,
              "#fb9f3a"
             ],
             [
              0.8888888888888888,
              "#fdca26"
             ],
             [
              1,
              "#f0f921"
             ]
            ],
            "type": "contour"
           }
          ],
          "contourcarpet": [
           {
            "colorbar": {
             "outlinewidth": 0,
             "ticks": ""
            },
            "type": "contourcarpet"
           }
          ],
          "heatmap": [
           {
            "colorbar": {
             "outlinewidth": 0,
             "ticks": ""
            },
            "colorscale": [
             [
              0,
              "#0d0887"
             ],
             [
              0.1111111111111111,
              "#46039f"
             ],
             [
              0.2222222222222222,
              "#7201a8"
             ],
             [
              0.3333333333333333,
              "#9c179e"
             ],
             [
              0.4444444444444444,
              "#bd3786"
             ],
             [
              0.5555555555555556,
              "#d8576b"
             ],
             [
              0.6666666666666666,
              "#ed7953"
             ],
             [
              0.7777777777777778,
              "#fb9f3a"
             ],
             [
              0.8888888888888888,
              "#fdca26"
             ],
             [
              1,
              "#f0f921"
             ]
            ],
            "type": "heatmap"
           }
          ],
          "heatmapgl": [
           {
            "colorbar": {
             "outlinewidth": 0,
             "ticks": ""
            },
            "colorscale": [
             [
              0,
              "#0d0887"
             ],
             [
              0.1111111111111111,
              "#46039f"
             ],
             [
              0.2222222222222222,
              "#7201a8"
             ],
             [
              0.3333333333333333,
              "#9c179e"
             ],
             [
              0.4444444444444444,
              "#bd3786"
             ],
             [
              0.5555555555555556,
              "#d8576b"
             ],
             [
              0.6666666666666666,
              "#ed7953"
             ],
             [
              0.7777777777777778,
              "#fb9f3a"
             ],
             [
              0.8888888888888888,
              "#fdca26"
             ],
             [
              1,
              "#f0f921"
             ]
            ],
            "type": "heatmapgl"
           }
          ],
          "histogram": [
           {
            "marker": {
             "pattern": {
              "fillmode": "overlay",
              "size": 10,
              "solidity": 0.2
             }
            },
            "type": "histogram"
           }
          ],
          "histogram2d": [
           {
            "colorbar": {
             "outlinewidth": 0,
             "ticks": ""
            },
            "colorscale": [
             [
              0,
              "#0d0887"
             ],
             [
              0.1111111111111111,
              "#46039f"
             ],
             [
              0.2222222222222222,
              "#7201a8"
             ],
             [
              0.3333333333333333,
              "#9c179e"
             ],
             [
              0.4444444444444444,
              "#bd3786"
             ],
             [
              0.5555555555555556,
              "#d8576b"
             ],
             [
              0.6666666666666666,
              "#ed7953"
             ],
             [
              0.7777777777777778,
              "#fb9f3a"
             ],
             [
              0.8888888888888888,
              "#fdca26"
             ],
             [
              1,
              "#f0f921"
             ]
            ],
            "type": "histogram2d"
           }
          ],
          "histogram2dcontour": [
           {
            "colorbar": {
             "outlinewidth": 0,
             "ticks": ""
            },
            "colorscale": [
             [
              0,
              "#0d0887"
             ],
             [
              0.1111111111111111,
              "#46039f"
             ],
             [
              0.2222222222222222,
              "#7201a8"
             ],
             [
              0.3333333333333333,
              "#9c179e"
             ],
             [
              0.4444444444444444,
              "#bd3786"
             ],
             [
              0.5555555555555556,
              "#d8576b"
             ],
             [
              0.6666666666666666,
              "#ed7953"
             ],
             [
              0.7777777777777778,
              "#fb9f3a"
             ],
             [
              0.8888888888888888,
              "#fdca26"
             ],
             [
              1,
              "#f0f921"
             ]
            ],
            "type": "histogram2dcontour"
           }
          ],
          "mesh3d": [
           {
            "colorbar": {
             "outlinewidth": 0,
             "ticks": ""
            },
            "type": "mesh3d"
           }
          ],
          "parcoords": [
           {
            "line": {
             "colorbar": {
              "outlinewidth": 0,
              "ticks": ""
             }
            },
            "type": "parcoords"
           }
          ],
          "pie": [
           {
            "automargin": true,
            "type": "pie"
           }
          ],
          "scatter": [
           {
            "fillpattern": {
             "fillmode": "overlay",
             "size": 10,
             "solidity": 0.2
            },
            "type": "scatter"
           }
          ],
          "scatter3d": [
           {
            "line": {
             "colorbar": {
              "outlinewidth": 0,
              "ticks": ""
             }
            },
            "marker": {
             "colorbar": {
              "outlinewidth": 0,
              "ticks": ""
             }
            },
            "type": "scatter3d"
           }
          ],
          "scattercarpet": [
           {
            "marker": {
             "colorbar": {
              "outlinewidth": 0,
              "ticks": ""
             }
            },
            "type": "scattercarpet"
           }
          ],
          "scattergeo": [
           {
            "marker": {
             "colorbar": {
              "outlinewidth": 0,
              "ticks": ""
             }
            },
            "type": "scattergeo"
           }
          ],
          "scattergl": [
           {
            "marker": {
             "colorbar": {
              "outlinewidth": 0,
              "ticks": ""
             }
            },
            "type": "scattergl"
           }
          ],
          "scattermapbox": [
           {
            "marker": {
             "colorbar": {
              "outlinewidth": 0,
              "ticks": ""
             }
            },
            "type": "scattermapbox"
           }
          ],
          "scatterpolar": [
           {
            "marker": {
             "colorbar": {
              "outlinewidth": 0,
              "ticks": ""
             }
            },
            "type": "scatterpolar"
           }
          ],
          "scatterpolargl": [
           {
            "marker": {
             "colorbar": {
              "outlinewidth": 0,
              "ticks": ""
             }
            },
            "type": "scatterpolargl"
           }
          ],
          "scatterternary": [
           {
            "marker": {
             "colorbar": {
              "outlinewidth": 0,
              "ticks": ""
             }
            },
            "type": "scatterternary"
           }
          ],
          "surface": [
           {
            "colorbar": {
             "outlinewidth": 0,
             "ticks": ""
            },
            "colorscale": [
             [
              0,
              "#0d0887"
             ],
             [
              0.1111111111111111,
              "#46039f"
             ],
             [
              0.2222222222222222,
              "#7201a8"
             ],
             [
              0.3333333333333333,
              "#9c179e"
             ],
             [
              0.4444444444444444,
              "#bd3786"
             ],
             [
              0.5555555555555556,
              "#d8576b"
             ],
             [
              0.6666666666666666,
              "#ed7953"
             ],
             [
              0.7777777777777778,
              "#fb9f3a"
             ],
             [
              0.8888888888888888,
              "#fdca26"
             ],
             [
              1,
              "#f0f921"
             ]
            ],
            "type": "surface"
           }
          ],
          "table": [
           {
            "cells": {
             "fill": {
              "color": "#EBF0F8"
             },
             "line": {
              "color": "white"
             }
            },
            "header": {
             "fill": {
              "color": "#C8D4E3"
             },
             "line": {
              "color": "white"
             }
            },
            "type": "table"
           }
          ]
         },
         "layout": {
          "annotationdefaults": {
           "arrowcolor": "#2a3f5f",
           "arrowhead": 0,
           "arrowwidth": 1
          },
          "autotypenumbers": "strict",
          "coloraxis": {
           "colorbar": {
            "outlinewidth": 0,
            "ticks": ""
           }
          },
          "colorscale": {
           "diverging": [
            [
             0,
             "#8e0152"
            ],
            [
             0.1,
             "#c51b7d"
            ],
            [
             0.2,
             "#de77ae"
            ],
            [
             0.3,
             "#f1b6da"
            ],
            [
             0.4,
             "#fde0ef"
            ],
            [
             0.5,
             "#f7f7f7"
            ],
            [
             0.6,
             "#e6f5d0"
            ],
            [
             0.7,
             "#b8e186"
            ],
            [
             0.8,
             "#7fbc41"
            ],
            [
             0.9,
             "#4d9221"
            ],
            [
             1,
             "#276419"
            ]
           ],
           "sequential": [
            [
             0,
             "#0d0887"
            ],
            [
             0.1111111111111111,
             "#46039f"
            ],
            [
             0.2222222222222222,
             "#7201a8"
            ],
            [
             0.3333333333333333,
             "#9c179e"
            ],
            [
             0.4444444444444444,
             "#bd3786"
            ],
            [
             0.5555555555555556,
             "#d8576b"
            ],
            [
             0.6666666666666666,
             "#ed7953"
            ],
            [
             0.7777777777777778,
             "#fb9f3a"
            ],
            [
             0.8888888888888888,
             "#fdca26"
            ],
            [
             1,
             "#f0f921"
            ]
           ],
           "sequentialminus": [
            [
             0,
             "#0d0887"
            ],
            [
             0.1111111111111111,
             "#46039f"
            ],
            [
             0.2222222222222222,
             "#7201a8"
            ],
            [
             0.3333333333333333,
             "#9c179e"
            ],
            [
             0.4444444444444444,
             "#bd3786"
            ],
            [
             0.5555555555555556,
             "#d8576b"
            ],
            [
             0.6666666666666666,
             "#ed7953"
            ],
            [
             0.7777777777777778,
             "#fb9f3a"
            ],
            [
             0.8888888888888888,
             "#fdca26"
            ],
            [
             1,
             "#f0f921"
            ]
           ]
          },
          "colorway": [
           "#636efa",
           "#EF553B",
           "#00cc96",
           "#ab63fa",
           "#FFA15A",
           "#19d3f3",
           "#FF6692",
           "#B6E880",
           "#FF97FF",
           "#FECB52"
          ],
          "font": {
           "color": "#2a3f5f"
          },
          "geo": {
           "bgcolor": "white",
           "lakecolor": "white",
           "landcolor": "#E5ECF6",
           "showlakes": true,
           "showland": true,
           "subunitcolor": "white"
          },
          "hoverlabel": {
           "align": "left"
          },
          "hovermode": "closest",
          "mapbox": {
           "style": "light"
          },
          "paper_bgcolor": "white",
          "plot_bgcolor": "#E5ECF6",
          "polar": {
           "angularaxis": {
            "gridcolor": "white",
            "linecolor": "white",
            "ticks": ""
           },
           "bgcolor": "#E5ECF6",
           "radialaxis": {
            "gridcolor": "white",
            "linecolor": "white",
            "ticks": ""
           }
          },
          "scene": {
           "xaxis": {
            "backgroundcolor": "#E5ECF6",
            "gridcolor": "white",
            "gridwidth": 2,
            "linecolor": "white",
            "showbackground": true,
            "ticks": "",
            "zerolinecolor": "white"
           },
           "yaxis": {
            "backgroundcolor": "#E5ECF6",
            "gridcolor": "white",
            "gridwidth": 2,
            "linecolor": "white",
            "showbackground": true,
            "ticks": "",
            "zerolinecolor": "white"
           },
           "zaxis": {
            "backgroundcolor": "#E5ECF6",
            "gridcolor": "white",
            "gridwidth": 2,
            "linecolor": "white",
            "showbackground": true,
            "ticks": "",
            "zerolinecolor": "white"
           }
          },
          "shapedefaults": {
           "line": {
            "color": "#2a3f5f"
           }
          },
          "ternary": {
           "aaxis": {
            "gridcolor": "white",
            "linecolor": "white",
            "ticks": ""
           },
           "baxis": {
            "gridcolor": "white",
            "linecolor": "white",
            "ticks": ""
           },
           "bgcolor": "#E5ECF6",
           "caxis": {
            "gridcolor": "white",
            "linecolor": "white",
            "ticks": ""
           }
          },
          "title": {
           "x": 0.05
          },
          "xaxis": {
           "automargin": true,
           "gridcolor": "white",
           "linecolor": "white",
           "ticks": "",
           "title": {
            "standoff": 15
           },
           "zerolinecolor": "white",
           "zerolinewidth": 2
          },
          "yaxis": {
           "automargin": true,
           "gridcolor": "white",
           "linecolor": "white",
           "ticks": "",
           "title": {
            "standoff": 15
           },
           "zerolinecolor": "white",
           "zerolinewidth": 2
          }
         }
        },
        "xaxis": {
         "anchor": "y",
         "domain": [
          0,
          1
         ],
         "title": {
          "text": "x"
         }
        },
        "yaxis": {
         "anchor": "x",
         "domain": [
          0,
          1
         ],
         "title": {
          "text": "y"
         }
        }
       }
      }
     },
     "metadata": {},
     "output_type": "display_data"
    }
   ],
   "source": [
    "fig = px.line(x = df_winter_gold[\"Year\"], y=df_winter_gold[\"Sport\"])\n",
    "fig.show()"
   ]
  },
  {
   "cell_type": "markdown",
   "metadata": {},
   "source": [
    "# OS winter sports: 15 sports year 1924 - 2014\n",
    "- Ice Hockey, Alpine Skiing, Curling Biathlon, Luge, Skeleton,\n",
    " Bobsleigh, Ski Jumping, Cross Country Skiing, Figure Skating,\n",
    " Snowboarding, Speed Skating, Nordic Combined, Freestyle Skiing,\n",
    " Short Track, Speed Skating\n",
    "# OS summer sports: 39 sports, year 1900 - 2016\n",
    "- Sailing, Canoeing, Swimming, Wrestling, Athletics,\n",
    "       Diving, Basketball, Weightlifting, Rowing, Shooting,\n",
    "       Volleyball, Hockey, Modern Pentathlon,\n",
    "       Synchronized Swimming, Archery, Boxing, Lacrosse,\n",
    "       Water Polo, Equestrianism, Cycling, Fencing, Gymnastics,\n",
    "       Softball, Golf, Baseball, Football, Judo, Handball,\n",
    "       Beach Volleyball, Tennis, Rugby Sevens, Ice Hockey,\n",
    "       Badminton, Art Competitions, Taekwondo, Triathlon,\n",
    "       Trampolining, Table Tennis, Rhythmic Gymnastics"
   ]
  },
  {
   "cell_type": "markdown",
   "metadata": {},
   "source": []
  }
 ],
 "metadata": {
  "kernelspec": {
   "display_name": "Python 3.9.13 ('group_project_OS_canada---zxPk6H')",
   "language": "python",
   "name": "python3"
  },
  "language_info": {
   "codemirror_mode": {
    "name": "ipython",
    "version": 3
   },
   "file_extension": ".py",
   "mimetype": "text/x-python",
   "name": "python",
   "nbconvert_exporter": "python",
   "pygments_lexer": "ipython3",
   "version": "3.9.13"
  },
  "orig_nbformat": 4,
  "vscode": {
   "interpreter": {
    "hash": "093c39e799b87ed3d8ee3cf8382c3a1eb18819a71934f57b8a8dfb4db5b6dfc4"
   }
  }
 },
 "nbformat": 4,
 "nbformat_minor": 2
}
